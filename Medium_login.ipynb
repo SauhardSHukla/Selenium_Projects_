{
 "cells": [
  {
   "cell_type": "markdown",
   "metadata": {},
   "source": [
    "Here we will log-in inside the site name Medium.com where we will save all the cookies related to it can be save as the of the Cookies_Med.json"
   ]
  },
  {
   "cell_type": "code",
   "execution_count": 1,
   "metadata": {},
   "outputs": [],
   "source": [
    "from selenium import webdriver\n",
    "# from selenium.webdriver.common.service import Service\n",
    "from selenium.webdriver.common.keys import Keys\n",
    "from selenium.webdriver.common.by import By\n",
    "from bs4 import BeautifulSoup\n",
    "import json\n",
    "import time\n",
    "\n",
    "driver = webdriver.Chrome()\n",
    "\n",
    "driver.get('https://www.medium.com/')\n",
    "time.sleep(4)"
   ]
  },
  {
   "cell_type": "code",
   "execution_count": 2,
   "metadata": {},
   "outputs": [],
   "source": [
    "driver.find_element(By.XPATH,'/html/body/div[1]/div/div[3]/div[1]/div[1]/div/div/div/div[3]/div[5]/span/a/button').click()\n",
    "time.sleep(2)"
   ]
  },
  {
   "cell_type": "code",
   "execution_count": 3,
   "metadata": {},
   "outputs": [],
   "source": [
    "driver.find_element(By.XPATH,'/html/body/div[3]/div/div/div/div[1]/div/div[2]/a/div').click()\n",
    "time.sleep(2)"
   ]
  },
  {
   "cell_type": "code",
   "execution_count": 4,
   "metadata": {},
   "outputs": [],
   "source": [
    "driver.find_element(By.TAG_NAME,'input').send_keys('sauhardshukla321@gmail.com')\n",
    "time.sleep(3)\n",
    "driver.find_element(By.XPATH,'/html/body/div[1]/div[1]/div[2]/c-wiz/div/div[3]/div/div[1]/div/div/button/span').click()"
   ]
  },
  {
   "cell_type": "code",
   "execution_count": 6,
   "metadata": {},
   "outputs": [],
   "source": [
    "password = open('pass_x.txt','r').read()\n",
    "driver.find_element(By.XPATH,'/html/body/div[1]/div[1]/div[2]/c-wiz/div/div[2]/div/div/div[1]/form/span/section[2]/div/div/div[1]/div[1]/div/div/div/div/div[1]/div/div[1]/input').send_keys(password)\n",
    "time.sleep(3)\n",
    "driver.find_element(By.XPATH,'/html/body/div[1]/div[1]/div[2]/c-wiz/div/div[3]/div/div[1]/div/div/button/span').click()"
   ]
  },
  {
   "cell_type": "markdown",
   "metadata": {},
   "source": []
  },
  {
   "cell_type": "markdown",
   "metadata": {},
   "source": [
    "#### All the Cmt part of the code hold the click and inputs related to the First time login-in details to know the Person Personal Interest so the site can recommend them all that topics"
   ]
  },
  {
   "cell_type": "code",
   "execution_count": 27,
   "metadata": {},
   "outputs": [],
   "source": [
    "# driver.find_element(By.XPATH,'/html/body/div[1]/div[2]/div/div[3]/div/section/div/div/form/button').click()\n",
    "# time.sleep(2)"
   ]
  },
  {
   "cell_type": "code",
   "execution_count": 28,
   "metadata": {},
   "outputs": [],
   "source": [
    "# driver.find_element(By.XPATH,'/html/body/div[1]/div[2]/div/div[3]/div/section/div/div/form/button').click()"
   ]
  },
  {
   "cell_type": "code",
   "execution_count": 29,
   "metadata": {},
   "outputs": [],
   "source": [
    "# driver.find_element(By.XPATH,'/html/body/div[1]/div/div[3]/div[2]/div[1]/div/div/div[3]/div/div[2]/div/button/div').click()"
   ]
  },
  {
   "cell_type": "code",
   "execution_count": 30,
   "metadata": {},
   "outputs": [],
   "source": [
    "# driver.find_element(By.XPATH,'/html/body/div[1]/div/div[3]/div[2]/div[1]/div/div/div[3]/div/div[1]/div/button/div').click()"
   ]
  },
  {
   "cell_type": "code",
   "execution_count": 31,
   "metadata": {},
   "outputs": [],
   "source": [
    "# driver.find_element(By.XPATH,'/html/body/div[1]/div/div[3]/div[2]/div[1]/div/div/div[3]/div/div[3]/div/button/div').click()"
   ]
  },
  {
   "cell_type": "code",
   "execution_count": 32,
   "metadata": {},
   "outputs": [],
   "source": [
    "# driver.find_element(By.XPATH,'/html/body/div[1]/div/div[3]/div[2]/div[2]/div[2]/div/div/a').click()"
   ]
  },
  {
   "cell_type": "code",
   "execution_count": 33,
   "metadata": {},
   "outputs": [],
   "source": [
    "# driver.find_element(By.XPATH,'/html/body/div[1]/div/div[3]/div[2]/a').click()"
   ]
  },
  {
   "cell_type": "code",
   "execution_count": 7,
   "metadata": {},
   "outputs": [
    {
     "name": "stdout",
     "output_type": "stream",
     "text": [
      "Cookies have been saved to 'cookies_medium.json'\n"
     ]
    }
   ],
   "source": [
    "cookies = driver.get_cookies()\n",
    "\n",
    "# Save cookies to a JSON file\n",
    "with open(\"cookies_medium_2.json\", \"w\") as file:\n",
    "  json.dump(cookies, file, indent=4)\n",
    "\n",
    "\n",
    "print(\"Cookies have been saved to 'cookies_medium.json'\")"
   ]
  }
 ],
 "metadata": {
  "kernelspec": {
   "display_name": "Python 3",
   "language": "python",
   "name": "python3"
  },
  "language_info": {
   "codemirror_mode": {
    "name": "ipython",
    "version": 3
   },
   "file_extension": ".py",
   "mimetype": "text/x-python",
   "name": "python",
   "nbconvert_exporter": "python",
   "pygments_lexer": "ipython3",
   "version": "3.12.3"
  }
 },
 "nbformat": 4,
 "nbformat_minor": 2
}
