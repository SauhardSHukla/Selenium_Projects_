{
 "cells": [
  {
   "cell_type": "markdown",
   "metadata": {},
   "source": [
    "Here we will with the help of the Medium Cookies we will sign-in the Medium.com site we will extarct the data from it and with the help of the Bs4 we will import BeautifulSoup with which we will make a Database.csv file that hold all the Data in it "
   ]
  },
  {
   "cell_type": "markdown",
   "metadata": {},
   "source": [
    "## Importing the important needed stuff for the Extraction of Data from the Medium site "
   ]
  },
  {
   "cell_type": "code",
   "execution_count": 2,
   "metadata": {},
   "outputs": [],
   "source": [
    "from selenium import webdriver\n",
    "from selenium.webdriver.common.keys import Keys\n",
    "from selenium.webdriver.common.by import By\n",
    "from selenium.webdriver.support.wait import WebDriverWait\n",
    "from selenium.webdriver.support import expected_conditions as EC\n",
    "\n",
    "import time\n",
    "import json\n",
    "# from selenium.wedriver.support.ui import Select"
   ]
  },
  {
   "cell_type": "code",
   "execution_count": 3,
   "metadata": {},
   "outputs": [],
   "source": [
    "driver = webdriver.Chrome()\n",
    "driver.get(\"https://www.medium.com\")\n",
    "\n",
    "with open('cookies_medium.json','r') as file:\n",
    "  all_cookies = json.load(file)\n",
    "\n",
    "for cookies in all_cookies:\n",
    "  if 'medium.com' in cookies.get('domain',''):\n",
    "    driver.add_cookie(cookies)\n",
    "\n",
    "driver.get(\"https://www.medium.com\")"
   ]
  },
  {
   "cell_type": "code",
   "execution_count": 4,
   "metadata": {},
   "outputs": [],
   "source": [
    "data_value=driver.find_element(By.XPATH, \"/html/body/div[1]/div/div[3]/div[1]/div[2]/div[1]/div/div/input\")\n",
    "data_value.send_keys('Data Science')\n",
    "data_value.send_keys(Keys.ENTER)"
   ]
  },
  {
   "cell_type": "code",
   "execution_count": 25,
   "metadata": {},
   "outputs": [
    {
     "name": "stdout",
     "output_type": "stream",
     "text": [
      "Ten predictions for data science and AI in 2025On agents, open source models, safety, and more\n",
      "-------------------\n",
      "The Most Expensive Data Science Mistake I’ve Witnessed in My CareerWhy true success in machine learning goes beyond optimizing a single metric\n",
      "-------------------\n",
      "GenAI is Reshaping Data Science TeamsChallenges, opportunities, and the evolving role of data scientists\n",
      "-------------------\n",
      "Python is No More The King of Data Science5 Reasons Why Python is Losing Its Crown\n",
      "-------------------\n",
      "4 Years of Data Science in 8 MinutesWhat I have learned in my 4+ year journey of studying data science\n",
      "-------------------\n",
      "Deep Learning vs Data Science: Who Will Win?What is more important, your data or your model?\n",
      "-------------------\n",
      "What You Need to Know Before Switching to a Data Science Career in 2024How the market has changed (and the roadmap I’d follow if I started my journey today)\n",
      "-------------------\n",
      "Data Science is dying; here’s whyWhy 85% of data science projects fail\n",
      "-------------------\n",
      "My Weekly Calendar as a Senior Data Science ManagerMy goal is to cover the 3Ps: People, Projects and Process. In that order of importance. And my target is the “50:50” rule.\n",
      "-------------------\n",
      "How to Build a Competency Framework for Data Science TeamsFor those leading Data Science teams, here are 6 essential competencies that separate juniors from seniors in a robust and objective way.\n",
      "-------------------\n"
     ]
    }
   ],
   "source": [
    "from bs4 import BeautifulSoup\n",
    "\n",
    "WebDriverWait(driver, 10).until(\n",
    "    EC.presence_of_all_elements_located((By.CLASS_NAME, \"my\"))\n",
    ")\n",
    "\n",
    "# Pass the updated page source to BeautifulSoup\n",
    "new_values = BeautifulSoup(driver.page_source, 'lxml')\n",
    "\n",
    "# Parse the data\n",
    "div_all = new_values.find_all('div', class_ = 'my')\n",
    "\n",
    "# for i in div_all:\n",
    "#     print(i.text.strip())  # Strip whitespace\n",
    "#     print('-------------------')"
   ]
  },
  {
   "cell_type": "code",
   "execution_count": 21,
   "metadata": {},
   "outputs": [],
   "source": [
    "\n",
    "currnet_height=driver.execute_script(' return document.body.scrollHeight')\n",
    "\n",
    "while True:\n",
    "  driver.exe"
   ]
  }
 ],
 "metadata": {
  "kernelspec": {
   "display_name": "Python 3",
   "language": "python",
   "name": "python3"
  },
  "language_info": {
   "codemirror_mode": {
    "name": "ipython",
    "version": 3
   },
   "file_extension": ".py",
   "mimetype": "text/x-python",
   "name": "python",
   "nbconvert_exporter": "python",
   "pygments_lexer": "ipython3",
   "version": "3.12.3"
  }
 },
 "nbformat": 4,
 "nbformat_minor": 2
}
